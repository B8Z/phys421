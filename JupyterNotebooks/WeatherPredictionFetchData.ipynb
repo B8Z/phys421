{
 "cells": [
  {
   "cell_type": "markdown",
   "metadata": {},
   "source": [
    "## Weather Prediction:  A comparision of traditional and modern methods\n",
    "\n",
    "In this study, we are going to use Python and Machine Learning to build models to predict weather temperatures based off data from WorldWeatherOnline. There are three \"phases\" to this study:\n",
    "\n",
    "1. Data collection and processing (i.e. like doing an experiment!)\n",
    "2. Using Linear Regression models (i.e. a traditional fitting approach)\n",
    "3. Using Neural Network models (i.e. a machine-learning approach)\n",
    "\n",
    "The data used will be collected from the WorldWeatherOnline API web services. We will interact with the API to pull in weather data over a given time period, for a given location.\n",
    "\n",
    "Once collected, the data will need to be processed and aggregated into a format that is suitable for data analysis, and then cleaned."
   ]
  },
  {
   "cell_type": "code",
   "execution_count": 1,
   "metadata": {},
   "outputs": [],
   "source": [
    "# import the usual libraries\n",
    "\n",
    "import numpy as np\n",
    "import matplotlib.pyplot as plt\n",
    "import pandas as pd\n",
    "import scipy.stats as stats\n",
    "\n",
    "# We are going to need several additional libraries.  We import them here, but\n",
    "# I will discuss their purpose and give further details as they are used."
   ]
  },
  {
   "cell_type": "code",
   "execution_count": 3,
   "metadata": {},
   "outputs": [],
   "source": [
    "from wwo_hist import retrieve_hist_data\n",
    "\n",
    "import os\n",
    "os.chdir(\"/home/brash/Phys421/WWO\")"
   ]
  },
  {
   "cell_type": "code",
   "execution_count": 28,
   "metadata": {},
   "outputs": [
    {
     "name": "stdout",
     "output_type": "stream",
     "text": [
      "\n",
      "\n",
      "Retrieving weather data for singapore\n",
      "\n",
      "\n",
      "Currently retrieving data for singapore: from 2019-12-11 to 2019-12-31\n",
      "Time elapsed (hh:mm:ss.ms) 0:00:01.018915\n",
      "Currently retrieving data for singapore: from 2020-01-01 to 2020-01-31\n",
      "Time elapsed (hh:mm:ss.ms) 0:00:02.423363\n",
      "Currently retrieving data for singapore: from 2020-02-01 to 2020-02-29\n",
      "Time elapsed (hh:mm:ss.ms) 0:00:03.617157\n",
      "Currently retrieving data for singapore: from 2020-03-01 to 2020-03-11\n",
      "Time elapsed (hh:mm:ss.ms) 0:00:04.271315\n",
      "\n",
      "\n",
      "export singapore completed!\n",
      "\n",
      "\n",
      "\n",
      "\n",
      "Retrieving weather data for california\n",
      "\n",
      "\n",
      "Currently retrieving data for california: from 2019-12-11 to 2019-12-31\n",
      "Time elapsed (hh:mm:ss.ms) 0:00:01.059341\n",
      "Currently retrieving data for california: from 2020-01-01 to 2020-01-31\n",
      "Time elapsed (hh:mm:ss.ms) 0:00:02.464946\n",
      "Currently retrieving data for california: from 2020-02-01 to 2020-02-29\n",
      "Time elapsed (hh:mm:ss.ms) 0:00:03.654780\n",
      "Currently retrieving data for california: from 2020-03-01 to 2020-03-11\n",
      "Time elapsed (hh:mm:ss.ms) 0:00:04.351514\n",
      "\n",
      "\n",
      "export california completed!\n",
      "\n",
      "\n",
      "\n",
      "\n",
      "Retrieving weather data for regina\n",
      "\n",
      "\n",
      "Currently retrieving data for regina: from 2019-12-11 to 2019-12-31\n",
      "Time elapsed (hh:mm:ss.ms) 0:00:00.979775\n",
      "Currently retrieving data for regina: from 2020-01-01 to 2020-01-31\n",
      "Time elapsed (hh:mm:ss.ms) 0:00:02.304457\n",
      "Currently retrieving data for regina: from 2020-02-01 to 2020-02-29\n",
      "Time elapsed (hh:mm:ss.ms) 0:00:03.503357\n",
      "Currently retrieving data for regina: from 2020-03-01 to 2020-03-11\n",
      "Time elapsed (hh:mm:ss.ms) 0:00:04.099532\n",
      "\n",
      "\n",
      "export regina completed!\n",
      "\n",
      "\n"
     ]
    }
   ],
   "source": [
    "frequency=3\n",
    "start_date = '11-DEC-2019'\n",
    "end_date = '11-MAR-2020'\n",
    "api_key = 'ad7df1826d9b4952aab225635202509'\n",
    "location_list = ['singapore','california','regina']\n",
    "\n",
    "hist_weather_data = retrieve_hist_data(api_key,\n",
    "                                location_list,\n",
    "                                start_date,\n",
    "                                end_date,\n",
    "                                frequency,\n",
    "                                location_label = False,\n",
    "                                export_csv = True,\n",
    "                                store_df = True)"
   ]
  },
  {
   "cell_type": "code",
   "execution_count": null,
   "metadata": {},
   "outputs": [],
   "source": []
  },
  {
   "cell_type": "code",
   "execution_count": null,
   "metadata": {},
   "outputs": [],
   "source": []
  },
  {
   "cell_type": "code",
   "execution_count": null,
   "metadata": {},
   "outputs": [],
   "source": []
  },
  {
   "cell_type": "code",
   "execution_count": null,
   "metadata": {},
   "outputs": [],
   "source": []
  },
  {
   "cell_type": "code",
   "execution_count": null,
   "metadata": {},
   "outputs": [],
   "source": []
  },
  {
   "cell_type": "code",
   "execution_count": null,
   "metadata": {},
   "outputs": [],
   "source": []
  }
 ],
 "metadata": {
  "kernelspec": {
   "display_name": "Python 3",
   "language": "python",
   "name": "python3"
  },
  "language_info": {
   "codemirror_mode": {
    "name": "ipython",
    "version": 3
   },
   "file_extension": ".py",
   "mimetype": "text/x-python",
   "name": "python",
   "nbconvert_exporter": "python",
   "pygments_lexer": "ipython3",
   "version": "3.6.8"
  }
 },
 "nbformat": 4,
 "nbformat_minor": 2
}
