{
 "cells": [
  {
   "cell_type": "markdown",
   "metadata": {
    "colab_type": "text",
    "id": "uzR3GGdt-1sK"
   },
   "source": [
    "# Linear Regression Models"
   ]
  },
  {
   "cell_type": "code",
   "execution_count": 9,
   "metadata": {
    "colab": {},
    "colab_type": "code",
    "id": "4ZZDsekk-1sM"
   },
   "outputs": [],
   "source": [
    "import numpy as np\n",
    "import pandas as pd\n",
    "import matplotlib.pyplot as plt\n",
    "import statsmodels.formula.api as sm\n",
    "from statsmodels.stats.anova import anova_lm\n",
    "import scipy.stats as stats\n",
    "from sklearn.linear_model import LinearRegression"
   ]
  },
  {
   "cell_type": "code",
   "execution_count": 10,
   "metadata": {
    "colab": {
     "base_uri": "https://localhost:8080/",
     "height": 390
    },
    "colab_type": "code",
    "id": "6VEtrhfU-1sU",
    "outputId": "c8ac845e-f79f-4532-9331-0123a266e2e0"
   },
   "outputs": [
    {
     "data": {
      "text/html": [
       "<div>\n",
       "<style scoped>\n",
       "    .dataframe tbody tr th:only-of-type {\n",
       "        vertical-align: middle;\n",
       "    }\n",
       "\n",
       "    .dataframe tbody tr th {\n",
       "        vertical-align: top;\n",
       "    }\n",
       "\n",
       "    .dataframe thead th {\n",
       "        text-align: right;\n",
       "    }\n",
       "</style>\n",
       "<table border=\"1\" class=\"dataframe\">\n",
       "  <thead>\n",
       "    <tr style=\"text-align: right;\">\n",
       "      <th></th>\n",
       "      <th>Altitude</th>\n",
       "      <th>Temperature</th>\n",
       "      <th>Gravity</th>\n",
       "      <th>Pressure</th>\n",
       "      <th>Density</th>\n",
       "      <th>Viscosity</th>\n",
       "    </tr>\n",
       "  </thead>\n",
       "  <tbody>\n",
       "    <tr>\n",
       "      <th>0</th>\n",
       "      <td>-1000</td>\n",
       "      <td>21.50</td>\n",
       "      <td>9.810</td>\n",
       "      <td>11.390000</td>\n",
       "      <td>1.347000</td>\n",
       "      <td>1.821</td>\n",
       "    </tr>\n",
       "    <tr>\n",
       "      <th>1</th>\n",
       "      <td>0</td>\n",
       "      <td>15.00</td>\n",
       "      <td>9.807</td>\n",
       "      <td>10.130000</td>\n",
       "      <td>1.225000</td>\n",
       "      <td>1.789</td>\n",
       "    </tr>\n",
       "    <tr>\n",
       "      <th>2</th>\n",
       "      <td>1000</td>\n",
       "      <td>8.50</td>\n",
       "      <td>9.804</td>\n",
       "      <td>8.988000</td>\n",
       "      <td>1.112000</td>\n",
       "      <td>1.758</td>\n",
       "    </tr>\n",
       "    <tr>\n",
       "      <th>3</th>\n",
       "      <td>2000</td>\n",
       "      <td>2.00</td>\n",
       "      <td>9.801</td>\n",
       "      <td>7.950000</td>\n",
       "      <td>1.007000</td>\n",
       "      <td>1.726</td>\n",
       "    </tr>\n",
       "    <tr>\n",
       "      <th>4</th>\n",
       "      <td>3000</td>\n",
       "      <td>-4.49</td>\n",
       "      <td>9.797</td>\n",
       "      <td>7.012000</td>\n",
       "      <td>0.909300</td>\n",
       "      <td>1.694</td>\n",
       "    </tr>\n",
       "    <tr>\n",
       "      <th>5</th>\n",
       "      <td>4000</td>\n",
       "      <td>-10.98</td>\n",
       "      <td>9.794</td>\n",
       "      <td>6.166000</td>\n",
       "      <td>0.819400</td>\n",
       "      <td>1.661</td>\n",
       "    </tr>\n",
       "    <tr>\n",
       "      <th>6</th>\n",
       "      <td>5000</td>\n",
       "      <td>-17.47</td>\n",
       "      <td>9.791</td>\n",
       "      <td>5.405000</td>\n",
       "      <td>0.736400</td>\n",
       "      <td>1.628</td>\n",
       "    </tr>\n",
       "    <tr>\n",
       "      <th>7</th>\n",
       "      <td>6000</td>\n",
       "      <td>-23.96</td>\n",
       "      <td>9.788</td>\n",
       "      <td>4.722000</td>\n",
       "      <td>0.660100</td>\n",
       "      <td>1.595</td>\n",
       "    </tr>\n",
       "    <tr>\n",
       "      <th>8</th>\n",
       "      <td>7000</td>\n",
       "      <td>-30.45</td>\n",
       "      <td>9.785</td>\n",
       "      <td>4.111000</td>\n",
       "      <td>0.590000</td>\n",
       "      <td>1.561</td>\n",
       "    </tr>\n",
       "    <tr>\n",
       "      <th>9</th>\n",
       "      <td>8000</td>\n",
       "      <td>-36.94</td>\n",
       "      <td>9.782</td>\n",
       "      <td>3.565000</td>\n",
       "      <td>0.525800</td>\n",
       "      <td>1.527</td>\n",
       "    </tr>\n",
       "    <tr>\n",
       "      <th>10</th>\n",
       "      <td>9000</td>\n",
       "      <td>-43.42</td>\n",
       "      <td>9.779</td>\n",
       "      <td>3.080000</td>\n",
       "      <td>0.467100</td>\n",
       "      <td>1.493</td>\n",
       "    </tr>\n",
       "    <tr>\n",
       "      <th>11</th>\n",
       "      <td>10000</td>\n",
       "      <td>-49.90</td>\n",
       "      <td>9.776</td>\n",
       "      <td>2.650000</td>\n",
       "      <td>0.413500</td>\n",
       "      <td>1.458</td>\n",
       "    </tr>\n",
       "    <tr>\n",
       "      <th>12</th>\n",
       "      <td>15000</td>\n",
       "      <td>-56.50</td>\n",
       "      <td>9.761</td>\n",
       "      <td>1.211000</td>\n",
       "      <td>0.194800</td>\n",
       "      <td>1.422</td>\n",
       "    </tr>\n",
       "    <tr>\n",
       "      <th>13</th>\n",
       "      <td>20000</td>\n",
       "      <td>-56.50</td>\n",
       "      <td>9.745</td>\n",
       "      <td>0.552900</td>\n",
       "      <td>0.088910</td>\n",
       "      <td>1.422</td>\n",
       "    </tr>\n",
       "    <tr>\n",
       "      <th>14</th>\n",
       "      <td>25000</td>\n",
       "      <td>-51.60</td>\n",
       "      <td>9.730</td>\n",
       "      <td>0.254900</td>\n",
       "      <td>0.040080</td>\n",
       "      <td>1.448</td>\n",
       "    </tr>\n",
       "    <tr>\n",
       "      <th>15</th>\n",
       "      <td>30000</td>\n",
       "      <td>-46.64</td>\n",
       "      <td>9.715</td>\n",
       "      <td>0.119700</td>\n",
       "      <td>0.018410</td>\n",
       "      <td>1.475</td>\n",
       "    </tr>\n",
       "    <tr>\n",
       "      <th>16</th>\n",
       "      <td>40000</td>\n",
       "      <td>-22.80</td>\n",
       "      <td>9.684</td>\n",
       "      <td>0.028700</td>\n",
       "      <td>0.003996</td>\n",
       "      <td>1.601</td>\n",
       "    </tr>\n",
       "    <tr>\n",
       "      <th>17</th>\n",
       "      <td>50000</td>\n",
       "      <td>-2.50</td>\n",
       "      <td>9.654</td>\n",
       "      <td>0.007978</td>\n",
       "      <td>0.001027</td>\n",
       "      <td>1.704</td>\n",
       "    </tr>\n",
       "    <tr>\n",
       "      <th>18</th>\n",
       "      <td>60000</td>\n",
       "      <td>-26.13</td>\n",
       "      <td>9.624</td>\n",
       "      <td>0.002196</td>\n",
       "      <td>0.000310</td>\n",
       "      <td>1.584</td>\n",
       "    </tr>\n",
       "    <tr>\n",
       "      <th>19</th>\n",
       "      <td>70000</td>\n",
       "      <td>-53.57</td>\n",
       "      <td>9.594</td>\n",
       "      <td>0.000520</td>\n",
       "      <td>0.000083</td>\n",
       "      <td>1.438</td>\n",
       "    </tr>\n",
       "    <tr>\n",
       "      <th>20</th>\n",
       "      <td>80000</td>\n",
       "      <td>-74.51</td>\n",
       "      <td>9.564</td>\n",
       "      <td>0.000110</td>\n",
       "      <td>0.000018</td>\n",
       "      <td>1.321</td>\n",
       "    </tr>\n",
       "  </tbody>\n",
       "</table>\n",
       "</div>"
      ],
      "text/plain": [
       "    Altitude  Temperature  Gravity   Pressure   Density  Viscosity\n",
       "0      -1000        21.50    9.810  11.390000  1.347000      1.821\n",
       "1          0        15.00    9.807  10.130000  1.225000      1.789\n",
       "2       1000         8.50    9.804   8.988000  1.112000      1.758\n",
       "3       2000         2.00    9.801   7.950000  1.007000      1.726\n",
       "4       3000        -4.49    9.797   7.012000  0.909300      1.694\n",
       "5       4000       -10.98    9.794   6.166000  0.819400      1.661\n",
       "6       5000       -17.47    9.791   5.405000  0.736400      1.628\n",
       "7       6000       -23.96    9.788   4.722000  0.660100      1.595\n",
       "8       7000       -30.45    9.785   4.111000  0.590000      1.561\n",
       "9       8000       -36.94    9.782   3.565000  0.525800      1.527\n",
       "10      9000       -43.42    9.779   3.080000  0.467100      1.493\n",
       "11     10000       -49.90    9.776   2.650000  0.413500      1.458\n",
       "12     15000       -56.50    9.761   1.211000  0.194800      1.422\n",
       "13     20000       -56.50    9.745   0.552900  0.088910      1.422\n",
       "14     25000       -51.60    9.730   0.254900  0.040080      1.448\n",
       "15     30000       -46.64    9.715   0.119700  0.018410      1.475\n",
       "16     40000       -22.80    9.684   0.028700  0.003996      1.601\n",
       "17     50000        -2.50    9.654   0.007978  0.001027      1.704\n",
       "18     60000       -26.13    9.624   0.002196  0.000310      1.584\n",
       "19     70000       -53.57    9.594   0.000520  0.000083      1.438\n",
       "20     80000       -74.51    9.564   0.000110  0.000018      1.321"
      ]
     },
     "execution_count": 10,
     "metadata": {},
     "output_type": "execute_result"
    }
   ],
   "source": [
    "# Read in the data\n",
    "df = pd.read_csv('standard_atmosphere.txt')\n",
    "df.head(100)"
   ]
  },
  {
   "cell_type": "code",
   "execution_count": 11,
   "metadata": {
    "colab": {},
    "colab_type": "code",
    "id": "Adzx_v6p-1sZ",
    "outputId": "7d2c6c20-9e3e-438f-ef7d-ac21c69b36e6"
   },
   "outputs": [
    {
     "data": {
      "image/png": "[encoded data removed]",
      "text/plain": [
       "<Figure size 432x288 with 1 Axes>"
      ]
     },
     "metadata": {
      "needs_background": "light"
     },
     "output_type": "display_data"
    }
   ],
   "source": [
    "# plot the data\n",
    "\n",
    "df.plot('Altitude','Density',style='o')\n",
    "plt.ylabel('Density')\n",
    "plt.title('U.S. Standard Atmosphere')\n",
    "plt.show()"
   ]
  },
  {
   "cell_type": "markdown",
   "metadata": {
    "colab_type": "text",
    "id": "E9Jhemdn-1se"
   },
   "source": [
    "Observations:\n",
    "\n",
    "Density vs. Altitude is obviously highly non-linear!\n",
    "\n",
    "The suggested model to be used is $\\rho = Ae^{Ba + C\\sqrt{a}}$, where a is the altitude."
   ]
  },
  {
   "cell_type": "code",
   "execution_count": 12,
   "metadata": {},
   "outputs": [
    {
     "data": {
      "image/png": "[encoded data removed]",
      "text/plain": [
       "<Figure size 432x288 with 1 Axes>"
      ]
     },
     "metadata": {
      "needs_background": "light"
     },
     "output_type": "display_data"
    }
   ],
   "source": [
    "# Plot the data using a log scale on the y-axis\n",
    "\n",
    "df.plot('Altitude','Density',style='o')\n",
    "plt.yscale(\"log\")\n",
    "plt.ylabel('Altitude')\n",
    "plt.title('U.S. Standard Atmosphere')\n",
    "plt.show()"
   ]
  },
  {
   "cell_type": "code",
   "execution_count": 13,
   "metadata": {},
   "outputs": [],
   "source": [
    "# define the fitting function\n",
    "\n",
    "def myfitfunction(x,*paramlist):\n",
    "    return paramlist[0]*np.exp(paramlist[1]*x+paramlist[2]*np.sqrt(x))"
   ]
  },
  {
   "cell_type": "code",
   "execution_count": 14,
   "metadata": {
    "colab": {},
    "colab_type": "code",
    "id": "aXdtTuHX-1sf",
    "outputId": "ed7de510-cceb-4d8a-ecba-513d2300351c",
    "scrolled": true
   },
   "outputs": [
    {
     "name": "stderr",
     "output_type": "stream",
     "text": [
      "/usr/lib/python3.6/site-packages/ipykernel_launcher.py:4: RuntimeWarning: overflow encountered in exp\n",
      "  after removing the cwd from sys.path.\n"
     ]
    }
   ],
   "source": [
    "# use the curve_fit method from scipy.optimize to fit the data\n",
    "\n",
    "from scipy.optimize import curve_fit\n",
    "\n",
    "# make some guesses for the parameters A,B, and C as starting points.\n",
    "init_vals = [1.0,-0.001,-0.00001]\n",
    "\n",
    "# Set up the x and y arrays for the fit.  Ignore the first data point,\n",
    "# which has a negative value for altitude, and thus will cause an error\n",
    "# when we try to take the sqrt(a).\n",
    "\n",
    "x = np.array(df['Altitude'][1:])\n",
    "y = np.array(df['Density'][1:])\n",
    "\n",
    "# Fit the data.  popt will contain the fit parameters, and pcov\n",
    "# will contain the covariance matrix.\n",
    "\n",
    "popt, pcov = curve_fit(myfitfunction,x,y,p0=init_vals)"
   ]
  },
  {
   "cell_type": "code",
   "execution_count": 18,
   "metadata": {
    "colab_type": "text",
    "id": "-CTkQlQS-1sk"
   },
   "outputs": [
    {
     "name": "stdout",
     "output_type": "stream",
     "text": [
      "Coefficients (from curve_fit)\n",
      "[ 1.21024743e+00 -1.30612869e-04  2.06342462e-03]\n",
      "Covariance Matrix (from curve_fit)\n",
      "[[ 2.25465070e-04  4.02843210e-08 -5.78976937e-06]\n",
      " [ 4.02843210e-08  2.74560033e-11 -2.54238030e-09]\n",
      " [-5.78976937e-06 -2.54238030e-09  2.71712146e-07]]\n"
     ]
    },
    {
     "data": {
      "image/png": "[encoded data removed]",
      "text/plain": [
       "<Figure size 432x288 with 1 Axes>"
      ]
     },
     "metadata": {
      "needs_background": "light"
     },
     "output_type": "display_data"
    }
   ],
   "source": [
    "# Once we have the fit parameters, do a bit of bookkeeping\n",
    "# in order to calculate the upper and lower confidence bounds of the fit\n",
    "\n",
    "xi = np.linspace(0,80000,100)\n",
    "ps = np.random.multivariate_normal(popt,pcov,10000)\n",
    "ysample=np.asarray([myfitfunction(xi,*pi) for pi in ps])\n",
    "lower = np.percentile(ysample,5,axis=0)\n",
    "upper = np.percentile(ysample,95,axis=0)\n",
    "\n",
    "print(\"Coefficients (from curve_fit)\")\n",
    "print (popt)\n",
    "print(\"Covariance Matrix (from curve_fit)\")\n",
    "print (pcov)\n",
    "\n",
    "plt.plot(df.Altitude,df.Density,'o')\n",
    "plt.plot(xi,lower)\n",
    "plt.plot(xi,upper)\n",
    "plt.yscale(\"log\")\n",
    "plt.show()"
   ]
  },
  {
   "cell_type": "markdown",
   "metadata": {
    "colab_type": "text",
    "id": "fCnQx_DK-1ss"
   },
   "source": [
    "### The uncertainties in the fit parameters are given by the square root of the diagonal elements of the covariance matrix.\n",
    "\n",
    "#### The fit does \"ok\", but misses most of the data points above a = 15000 m!\n",
    "\n",
    "#### Note that these are very small densities, and since we are plotting on a log scale, the differences are highly accentuated.\n",
    "\n"
   ]
  },
  {
   "cell_type": "code",
   "execution_count": 8,
   "metadata": {
    "colab": {},
    "colab_type": "code",
    "id": "Ez9sqhUe-1st",
    "outputId": "09d58385-061f-4a10-9aa4-b9e4cf667220"
   },
   "outputs": [
    {
     "name": "stdout",
     "output_type": "stream",
     "text": [
      "A = 1.210 +/- 0.015\n",
      "B = -0.0001306 +/- 0.0000052\n",
      "C = 0.00206 +/- 0.00052\n"
     ]
    }
   ],
   "source": [
    "print (\"A = %0.3f +/- %0.3f\" % (popt[0],np.sqrt(pcov[0][0])))\n",
    "print (\"B = %0.7f +/- %0.7f\" % (popt[1],np.sqrt(pcov[1][1])))\n",
    "print (\"C = %0.5f +/- %0.5f\" % (popt[2],np.sqrt(pcov[2][2])))"
   ]
  },
  {
   "cell_type": "code",
   "execution_count": 9,
   "metadata": {},
   "outputs": [
    {
     "data": {
      "text/html": [
       "<div>\n",
       "<style scoped>\n",
       "    .dataframe tbody tr th:only-of-type {\n",
       "        vertical-align: middle;\n",
       "    }\n",
       "\n",
       "    .dataframe tbody tr th {\n",
       "        vertical-align: top;\n",
       "    }\n",
       "\n",
       "    .dataframe thead th {\n",
       "        text-align: right;\n",
       "    }\n",
       "</style>\n",
       "<table border=\"1\" class=\"dataframe\">\n",
       "  <thead>\n",
       "    <tr style=\"text-align: right;\">\n",
       "      <th></th>\n",
       "      <th>Altitude</th>\n",
       "      <th>Temperature</th>\n",
       "      <th>Gravity</th>\n",
       "      <th>Pressure</th>\n",
       "      <th>Density</th>\n",
       "      <th>Viscosity</th>\n",
       "      <th>LogDensity</th>\n",
       "    </tr>\n",
       "  </thead>\n",
       "  <tbody>\n",
       "    <tr>\n",
       "      <th>0</th>\n",
       "      <td>-1000</td>\n",
       "      <td>21.50</td>\n",
       "      <td>9.810</td>\n",
       "      <td>11.390000</td>\n",
       "      <td>1.347000</td>\n",
       "      <td>1.821</td>\n",
       "      <td>0.297880</td>\n",
       "    </tr>\n",
       "    <tr>\n",
       "      <th>1</th>\n",
       "      <td>0</td>\n",
       "      <td>15.00</td>\n",
       "      <td>9.807</td>\n",
       "      <td>10.130000</td>\n",
       "      <td>1.225000</td>\n",
       "      <td>1.789</td>\n",
       "      <td>0.202941</td>\n",
       "    </tr>\n",
       "    <tr>\n",
       "      <th>2</th>\n",
       "      <td>1000</td>\n",
       "      <td>8.50</td>\n",
       "      <td>9.804</td>\n",
       "      <td>8.988000</td>\n",
       "      <td>1.112000</td>\n",
       "      <td>1.758</td>\n",
       "      <td>0.106160</td>\n",
       "    </tr>\n",
       "    <tr>\n",
       "      <th>3</th>\n",
       "      <td>2000</td>\n",
       "      <td>2.00</td>\n",
       "      <td>9.801</td>\n",
       "      <td>7.950000</td>\n",
       "      <td>1.007000</td>\n",
       "      <td>1.726</td>\n",
       "      <td>0.006976</td>\n",
       "    </tr>\n",
       "    <tr>\n",
       "      <th>4</th>\n",
       "      <td>3000</td>\n",
       "      <td>-4.49</td>\n",
       "      <td>9.797</td>\n",
       "      <td>7.012000</td>\n",
       "      <td>0.909300</td>\n",
       "      <td>1.694</td>\n",
       "      <td>-0.095080</td>\n",
       "    </tr>\n",
       "    <tr>\n",
       "      <th>5</th>\n",
       "      <td>4000</td>\n",
       "      <td>-10.98</td>\n",
       "      <td>9.794</td>\n",
       "      <td>6.166000</td>\n",
       "      <td>0.819400</td>\n",
       "      <td>1.661</td>\n",
       "      <td>-0.199183</td>\n",
       "    </tr>\n",
       "    <tr>\n",
       "      <th>6</th>\n",
       "      <td>5000</td>\n",
       "      <td>-17.47</td>\n",
       "      <td>9.791</td>\n",
       "      <td>5.405000</td>\n",
       "      <td>0.736400</td>\n",
       "      <td>1.628</td>\n",
       "      <td>-0.305982</td>\n",
       "    </tr>\n",
       "    <tr>\n",
       "      <th>7</th>\n",
       "      <td>6000</td>\n",
       "      <td>-23.96</td>\n",
       "      <td>9.788</td>\n",
       "      <td>4.722000</td>\n",
       "      <td>0.660100</td>\n",
       "      <td>1.595</td>\n",
       "      <td>-0.415364</td>\n",
       "    </tr>\n",
       "    <tr>\n",
       "      <th>8</th>\n",
       "      <td>7000</td>\n",
       "      <td>-30.45</td>\n",
       "      <td>9.785</td>\n",
       "      <td>4.111000</td>\n",
       "      <td>0.590000</td>\n",
       "      <td>1.561</td>\n",
       "      <td>-0.527633</td>\n",
       "    </tr>\n",
       "    <tr>\n",
       "      <th>9</th>\n",
       "      <td>8000</td>\n",
       "      <td>-36.94</td>\n",
       "      <td>9.782</td>\n",
       "      <td>3.565000</td>\n",
       "      <td>0.525800</td>\n",
       "      <td>1.527</td>\n",
       "      <td>-0.642834</td>\n",
       "    </tr>\n",
       "    <tr>\n",
       "      <th>10</th>\n",
       "      <td>9000</td>\n",
       "      <td>-43.42</td>\n",
       "      <td>9.779</td>\n",
       "      <td>3.080000</td>\n",
       "      <td>0.467100</td>\n",
       "      <td>1.493</td>\n",
       "      <td>-0.761212</td>\n",
       "    </tr>\n",
       "    <tr>\n",
       "      <th>11</th>\n",
       "      <td>10000</td>\n",
       "      <td>-49.90</td>\n",
       "      <td>9.776</td>\n",
       "      <td>2.650000</td>\n",
       "      <td>0.413500</td>\n",
       "      <td>1.458</td>\n",
       "      <td>-0.883098</td>\n",
       "    </tr>\n",
       "    <tr>\n",
       "      <th>12</th>\n",
       "      <td>15000</td>\n",
       "      <td>-56.50</td>\n",
       "      <td>9.761</td>\n",
       "      <td>1.211000</td>\n",
       "      <td>0.194800</td>\n",
       "      <td>1.422</td>\n",
       "      <td>-1.635782</td>\n",
       "    </tr>\n",
       "    <tr>\n",
       "      <th>13</th>\n",
       "      <td>20000</td>\n",
       "      <td>-56.50</td>\n",
       "      <td>9.745</td>\n",
       "      <td>0.552900</td>\n",
       "      <td>0.088910</td>\n",
       "      <td>1.422</td>\n",
       "      <td>-2.420131</td>\n",
       "    </tr>\n",
       "    <tr>\n",
       "      <th>14</th>\n",
       "      <td>25000</td>\n",
       "      <td>-51.60</td>\n",
       "      <td>9.730</td>\n",
       "      <td>0.254900</td>\n",
       "      <td>0.040080</td>\n",
       "      <td>1.448</td>\n",
       "      <td>-3.216878</td>\n",
       "    </tr>\n",
       "    <tr>\n",
       "      <th>15</th>\n",
       "      <td>30000</td>\n",
       "      <td>-46.64</td>\n",
       "      <td>9.715</td>\n",
       "      <td>0.119700</td>\n",
       "      <td>0.018410</td>\n",
       "      <td>1.475</td>\n",
       "      <td>-3.994861</td>\n",
       "    </tr>\n",
       "    <tr>\n",
       "      <th>16</th>\n",
       "      <td>40000</td>\n",
       "      <td>-22.80</td>\n",
       "      <td>9.684</td>\n",
       "      <td>0.028700</td>\n",
       "      <td>0.003996</td>\n",
       "      <td>1.601</td>\n",
       "      <td>-5.522461</td>\n",
       "    </tr>\n",
       "    <tr>\n",
       "      <th>17</th>\n",
       "      <td>50000</td>\n",
       "      <td>-2.50</td>\n",
       "      <td>9.654</td>\n",
       "      <td>0.007978</td>\n",
       "      <td>0.001027</td>\n",
       "      <td>1.704</td>\n",
       "      <td>-6.881113</td>\n",
       "    </tr>\n",
       "    <tr>\n",
       "      <th>18</th>\n",
       "      <td>60000</td>\n",
       "      <td>-26.13</td>\n",
       "      <td>9.624</td>\n",
       "      <td>0.002196</td>\n",
       "      <td>0.000310</td>\n",
       "      <td>1.584</td>\n",
       "      <td>-8.079906</td>\n",
       "    </tr>\n",
       "    <tr>\n",
       "      <th>19</th>\n",
       "      <td>70000</td>\n",
       "      <td>-53.57</td>\n",
       "      <td>9.594</td>\n",
       "      <td>0.000520</td>\n",
       "      <td>0.000083</td>\n",
       "      <td>1.438</td>\n",
       "      <td>-9.398720</td>\n",
       "    </tr>\n",
       "    <tr>\n",
       "      <th>20</th>\n",
       "      <td>80000</td>\n",
       "      <td>-74.51</td>\n",
       "      <td>9.564</td>\n",
       "      <td>0.000110</td>\n",
       "      <td>0.000018</td>\n",
       "      <td>1.321</td>\n",
       "      <td>-10.899904</td>\n",
       "    </tr>\n",
       "  </tbody>\n",
       "</table>\n",
       "</div>"
      ],
      "text/plain": [
       "    Altitude  Temperature  Gravity   Pressure   Density  Viscosity  LogDensity\n",
       "0      -1000        21.50    9.810  11.390000  1.347000      1.821    0.297880\n",
       "1          0        15.00    9.807  10.130000  1.225000      1.789    0.202941\n",
       "2       1000         8.50    9.804   8.988000  1.112000      1.758    0.106160\n",
       "3       2000         2.00    9.801   7.950000  1.007000      1.726    0.006976\n",
       "4       3000        -4.49    9.797   7.012000  0.909300      1.694   -0.095080\n",
       "5       4000       -10.98    9.794   6.166000  0.819400      1.661   -0.199183\n",
       "6       5000       -17.47    9.791   5.405000  0.736400      1.628   -0.305982\n",
       "7       6000       -23.96    9.788   4.722000  0.660100      1.595   -0.415364\n",
       "8       7000       -30.45    9.785   4.111000  0.590000      1.561   -0.527633\n",
       "9       8000       -36.94    9.782   3.565000  0.525800      1.527   -0.642834\n",
       "10      9000       -43.42    9.779   3.080000  0.467100      1.493   -0.761212\n",
       "11     10000       -49.90    9.776   2.650000  0.413500      1.458   -0.883098\n",
       "12     15000       -56.50    9.761   1.211000  0.194800      1.422   -1.635782\n",
       "13     20000       -56.50    9.745   0.552900  0.088910      1.422   -2.420131\n",
       "14     25000       -51.60    9.730   0.254900  0.040080      1.448   -3.216878\n",
       "15     30000       -46.64    9.715   0.119700  0.018410      1.475   -3.994861\n",
       "16     40000       -22.80    9.684   0.028700  0.003996      1.601   -5.522461\n",
       "17     50000        -2.50    9.654   0.007978  0.001027      1.704   -6.881113\n",
       "18     60000       -26.13    9.624   0.002196  0.000310      1.584   -8.079906\n",
       "19     70000       -53.57    9.594   0.000520  0.000083      1.438   -9.398720\n",
       "20     80000       -74.51    9.564   0.000110  0.000018      1.321  -10.899904"
      ]
     },
     "execution_count": 9,
     "metadata": {},
     "output_type": "execute_result"
    }
   ],
   "source": [
    "# Add a column to the dataframe which is the log of the density\n",
    "logrho = np.log(df['Density'])\n",
    "df['LogDensity'] = logrho\n",
    "\n",
    "df.head(100)"
   ]
  },
  {
   "cell_type": "code",
   "execution_count": 10,
   "metadata": {},
   "outputs": [
    {
     "data": {
      "image/png": "[encoded data removed]",
      "text/plain": [
       "<Figure size 432x288 with 1 Axes>"
      ]
     },
     "metadata": {
      "needs_background": "light"
     },
     "output_type": "display_data"
    }
   ],
   "source": [
    "# plot the data\n",
    "\n",
    "df.plot('Altitude','LogDensity',style='o')\n",
    "plt.ylabel('ln(Density)')\n",
    "plt.title('U.S. Standard Atmosphere')\n",
    "plt.show()"
   ]
  },
  {
   "cell_type": "code",
   "execution_count": 11,
   "metadata": {},
   "outputs": [],
   "source": [
    "# define the fitting function\n",
    "\n",
    "def myfitfunctionlog(x,*paramlist):\n",
    "    return paramlist[1]*x+paramlist[2]*np.sqrt(x)+np.log(paramlist[0])"
   ]
  },
  {
   "cell_type": "code",
   "execution_count": 12,
   "metadata": {},
   "outputs": [],
   "source": [
    "# make some guesses for the parameters B and C as starting points.\n",
    "init_vals = [1.0,-0.001,-0.00001]\n",
    "\n",
    "# Set up the x and y arrays for the fit.  Ignore the first data point,\n",
    "# which has a negative value for altitude, and thus will cause an error\n",
    "# when we try to take the sqrt(a).\n",
    "\n",
    "x = np.array(df['Altitude'][1:])\n",
    "y = np.array(df['LogDensity'][1:])\n",
    "\n",
    "# Fit the data.  popt will contain the fit parameters, and pcov\n",
    "# will contain the covariance matrix.\n",
    "\n",
    "popt, pcov = curve_fit(myfitfunctionlog,x,y,p0=init_vals)"
   ]
  },
  {
   "cell_type": "code",
   "execution_count": 13,
   "metadata": {},
   "outputs": [
    {
     "name": "stdout",
     "output_type": "stream",
     "text": [
      "Coefficients (from curve_fit)\n",
      "[ 1.34831889e+00 -1.45638916e-04  1.29598412e-03]\n",
      "Covariance Matrix (from curve_fit)\n",
      "[[ 1.28529679e-02  4.10202204e-07 -1.40070064e-04]\n",
      " [ 4.10202204e-07  2.06821276e-11 -6.06265972e-09]\n",
      " [-1.40070064e-04 -6.06265972e-09  1.89379697e-06]]\n"
     ]
    },
    {
     "data": {
      "image/png": "[encoded data removed]",
      "text/plain": [
       "<Figure size 432x288 with 1 Axes>"
      ]
     },
     "metadata": {
      "needs_background": "light"
     },
     "output_type": "display_data"
    }
   ],
   "source": [
    "# Once we have the fit parameters, do a bit of bookkeeping\n",
    "# in order to calculate the upper and lower confidence bounds of the fit\n",
    "\n",
    "xi = np.linspace(0,80000,100)\n",
    "ps = np.random.multivariate_normal(popt,pcov,10000)\n",
    "ysample=np.asarray([myfitfunctionlog(xi,*pi) for pi in ps])\n",
    "lower = np.percentile(ysample,5,axis=0)\n",
    "upper = np.percentile(ysample,95,axis=0)\n",
    "\n",
    "print(\"Coefficients (from curve_fit)\")\n",
    "print (popt)\n",
    "print(\"Covariance Matrix (from curve_fit)\")\n",
    "print (pcov)\n",
    "\n",
    "plt.plot(df.Altitude,df.LogDensity,'o')\n",
    "plt.plot(xi,lower)\n",
    "plt.plot(xi,upper)\n",
    "plt.show()"
   ]
  },
  {
   "cell_type": "code",
   "execution_count": 14,
   "metadata": {},
   "outputs": [
    {
     "name": "stdout",
     "output_type": "stream",
     "text": [
      "A = 1.35 +/- 0.11\n",
      "B = -0.0001456 +/- 0.0000045\n",
      "C = 0.0013 +/- 0.0014\n"
     ]
    }
   ],
   "source": [
    "print (\"A = %0.2f +/- %0.2f\" % (popt[0],np.sqrt(pcov[0][0])))\n",
    "print (\"B = %0.7f +/- %0.7f\" % (popt[1],np.sqrt(pcov[1][1])))\n",
    "print (\"C = %0.4f +/- %0.4f\" % (popt[2],np.sqrt(pcov[2][2])))"
   ]
  },
  {
   "cell_type": "code",
   "execution_count": null,
   "metadata": {},
   "outputs": [],
   "source": []
  }
 ],
 "metadata": {
  "colab": {
   "name": "LinearRegression.ipynb",
   "provenance": []
  },
  "kernelspec": {
   "display_name": "Python 3",
   "language": "python",
   "name": "python3"
  },
  "language_info": {
   "codemirror_mode": {
    "name": "ipython",
    "version": 3
   },
   "file_extension": ".py",
   "mimetype": "text/x-python",
   "name": "python",
   "nbconvert_exporter": "python",
   "pygments_lexer": "ipython3",
   "version": "3.6.8"
  }
 },
 "nbformat": 4,
 "nbformat_minor": 1
}
